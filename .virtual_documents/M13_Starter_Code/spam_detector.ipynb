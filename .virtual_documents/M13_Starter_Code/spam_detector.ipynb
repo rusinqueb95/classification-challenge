


import pandas as pd
from sklearn.model_selection import train_test_split
from sklearn.metrics import accuracy_score





# Import the data
data = pd.read_csv("https://static.bc-edx.com/ai/ail-v-1-0/m13/challenge/spam-data.csv")
data.head()











# Create the labels set `y` and features DataFrame `X`
X = data.copy()
X = X.drop(columns='spam', axis=1)
y = data['spam']


# Check the balance of the labels variable (`y`) by using the `value_counts` function.
data['spam'].value_counts()



# Split the data into X_train, X_test, y_train, y_test
X_train, X_test, y_train, y_test = train_test_split(X, y, random_state=1)









from sklearn.preprocessing import StandardScaler

# Create the StandardScaler instance
scaler = StandardScaler().fit(X_train)



# Fit the Standard Scaler with the training data
X_train_scaled = scaler.transform(X_train)
X_train_scaled


# Scale the training data
X_test_scaled = scaler.transform(X_test)
X_test_scaled





# Train a Logistic Regression model and print the model score
from sklearn.linear_model import LogisticRegression



# Train a Logistic Regression model and print the model score
lr_model = LogisticRegression(random_state=1)

# Fit the model to the training data
lr_model.fit(X_train_scaled, y_train)
lr_model_scaled = lr_model.fit(X_train_scaled, y_train)

# Print the model score
lr_model_train_score = lr_model_scaled.score(X_train_scaled, y_train)
print("Logistic Regression Training Score:", lr_model_train_score)

# Print the model score
lr_model_test_score = lr_model_scaled.score(X_test_scaled, y_test)
print("Logistic Regression Testing Score:", lr_model_test_score)


# Make and save testing predictions with the saved logistic regression model using the test data
lr_y_pred = lr_model_scaled.predict(X_test_scaled)

print(lr_y_pred)
# Review the predictions



# Calculate the accuracy score by evaluating `y_test` vs. `testing_predictions`.
lr_accuracy_score = accuracy_score(y_test, lr_y_pred)
print(lr_accuracy_score)





# Train a Random Forest Classifier model and print the model score
from sklearn.ensemble import RandomForestClassifier



rf_model = RandomForestClassifier(n_estimators=141, random_state=1)
# Fit the model to the training data
rf_model.fit(X_train_scaled, y_train)
rf_model_scaled = rf_model.fit(X_train_scaled, y_train)
print(f'Training Score: {rf_model_scaled.score(X_train_scaled, y_train)}')
print(f'Testing Score: {rf_model_scaled.score(X_test_scaled, y_test)}')


# Make and save testing predictions with the saved logistic regression model using the test data
rf_y_pred = rf_model_scaled.predict(X_test_scaled)


# Review the predictions
print(rf_y_pred)



# Calculate the accuracy score by evaluating `y_test` vs. `testing_predictions`.
rf_accuracy_score = accuracy_score(y_test, rf_y_pred)
print(rf_accuracy_score)





















